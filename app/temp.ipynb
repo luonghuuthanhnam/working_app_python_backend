{
 "cells": [
  {
   "cell_type": "code",
   "execution_count": 157,
   "metadata": {},
   "outputs": [],
   "source": [
    "import pandas as pd\n",
    "import json\n",
    "employee_raw_data = pd.read_excel(\"database\\DanhSachThongTinDoanVien.xlsx\")\n",
    "main_data = employee_raw_data.iloc[5:]"
   ]
  },
  {
   "cell_type": "code",
   "execution_count": 158,
   "metadata": {},
   "outputs": [],
   "source": [
    "mapping_cols = {\n",
    "    \"stt\": \"Unnamed: 0\",\n",
    "    \"maso_doanvien\": \"Unnamed: 1\",\n",
    "    \"hovaten\": \"Unnamed: 2\",\n",
    "    \"ngaysinh_nam\": \"Unnamed: 3\",\n",
    "    \"ngaysinh_nu\": \"Unnamed: 4\",\n",
    "    \"tinh\": \"Unnamed: 5\",\n",
    "    \"matinh\": \"Unnamed: 6\",\n",
    "    \"cmnd\": \"Unnamed: 7\",\n",
    "    \"huongluong_ngansach\": \"Unnamed: 8\",\n",
    "    \"huongluong_ngoaingansach\": \"Unnamed: 9\",\n",
    "    \"khongchuyentrach\": \"Unnamed: 10\",\n",
    "    \"chutich\": \"Unnamed: 11\",\n",
    "    \"phochutich\": \"Unnamed: 12\",\n",
    "    \"uvbch\": \"Unnamed: 13\",\n",
    "    \"totruong\": \"Unnamed: 14\",\n",
    "    \"topho\": \"Unnamed: 15\",\n",
    "    \"cb_cdcs\": \"Unnamed: 16\",\n",
    "    \"vuvbkt\": \"Unnamed: 17\",\n",
    "    \"ngayvao_congdoan\": \"Unnamed: 18\",\n",
    "    \"Unnamed_19\": \"Unnamed: 19\",\n",
    "    \"Unnamed_20\": \"Unnamed: 20\",\n",
    "    \"Unnamed_21\": \"Unnamed: 21\",\n",
    "    \"Unnamed_22\": \"Unnamed: 22\",\n",
    "    \"nguyenquan_tinh\": \"Unnamed: 23\",\n",
    "    \"nguyenquan_matinh\": \"Unnamed: 24\",\n",
    "}\n",
    "mapping_cols_swap = {v: k for k, v in mapping_cols.items()}"
   ]
  },
  {
   "cell_type": "code",
   "execution_count": 159,
   "metadata": {},
   "outputs": [],
   "source": [
    "import numpy as np\n",
    "from itertools import product"
   ]
  },
  {
   "cell_type": "code",
   "execution_count": 160,
   "metadata": {},
   "outputs": [],
   "source": [
    "def joining_date_by_gender(length, main_data, mapping_cols_swap):\n",
    "    result =  main_data.iloc[:int(length)]\n",
    "    new_result = result.rename(columns=mapping_cols_swap)\n",
    "    new_result = new_result.reset_index(drop=True)\n",
    "    union_joining_date_by_gender_df = new_result[[\"ngayvao_congdoan\", \"ngaysinh_nu\", \"ngaysinh_nam\"]]\n",
    "    gender = []\n",
    "    joining_date = []\n",
    "    union_joining_date_by_gender_df = union_joining_date_by_gender_df.fillna(\"\")\n",
    "    for irow in range(len(union_joining_date_by_gender_df)):\n",
    "        row  = union_joining_date_by_gender_df.iloc[irow]\n",
    "        if row[\"ngaysinh_nu\"] == \"\":\n",
    "            gender.append(\"nam\")\n",
    "        else:\n",
    "            gender.append(\"nu\")\n",
    "        joining_year = row[\"ngayvao_congdoan\"].split(\"/\")[-1]\n",
    "        joining_date.append(int(joining_year))\n",
    "    union_joining_date_by_gender_df[\"gender\"] = gender\n",
    "    union_joining_date_by_gender_df[\"joining_date\"] = joining_date\n",
    "    final_df = union_joining_date_by_gender_df[[\"gender\", \"joining_date\"]]\n",
    "    final_df = pd.DataFrame({'value' : final_df.groupby( [\"gender\", \"joining_date\"] ).size()}).reset_index()\n",
    "    final_df = final_df.sort_values(\"joining_date\")\n",
    "    df = final_df.copy()\n",
    "    \n",
    "\n",
    "    nam_df = df[df['gender']=='nam']\n",
    "    nam_df = nam_df.rename(columns={'value':'nam_value'})\n",
    "    nam_df = nam_df.drop(columns=['gender'])\n",
    "\n",
    "    # create a dataframe for nu\n",
    "    nu_df = df[df['gender']=='nu']\n",
    "    nu_df = nu_df.rename(columns={'value':'nu_value'})\n",
    "    nu_df = nu_df.drop(columns=['gender'])\n",
    "\n",
    "    # merge nam and nu dataframes on joining_date\n",
    "    merged_df = pd.merge(nam_df, nu_df, on='joining_date', how='outer')\n",
    "\n",
    "    # create a new column 'tong_value' as the sum of 'nam_value' and 'nu_value'\n",
    "    merged_df['tong_value'] = merged_df['nam_value'].fillna(0) + merged_df['nu_value'].fillna(0)\n",
    "\n",
    "    # create a new dataframe for 'tong'\n",
    "    tong_df = merged_df[['joining_date', 'tong_value']]\n",
    "    tong_df = tong_df.rename(columns={'tong_value':'value'})\n",
    "    tong_df['gender'] = 'tong'\n",
    "\n",
    "    # append 'tong' dataframe to the original dataframe\n",
    "    df = df.append(tong_df, ignore_index=True)\n",
    "\n",
    "    # sort the dataframe by gender, joining_date\n",
    "    df = df.sort_values('joining_date').reset_index(drop=True)\n",
    "\n",
    "    # fill missing values with 0\n",
    "    df['value'] = df['value'].fillna(0)\n",
    "\n",
    "    # create a new DataFrame with all possible combinations of gender and year\n",
    "    all_genders = df['gender'].unique()\n",
    "    min_year = df['joining_date'].min()\n",
    "    max_year = df['joining_date'].max()\n",
    "    year_range = range(min_year, max_year+1)\n",
    "    all_years = pd.DataFrame(list(product(all_genders, year_range)), columns=['gender', 'joining_date'])\n",
    "\n",
    "    # merge with the original DataFrame to fill missing values with 0\n",
    "    result = pd.merge(df, all_years, how='right', on=['gender', 'joining_date'])\n",
    "    result['value'] = result['value'].fillna(0)\n",
    "\n",
    "    # sort the result by gender and joining_date\n",
    "    result.sort_values(['gender', 'joining_date'], inplace=True)\n",
    "\n",
    "    # reset the index\n",
    "    result.reset_index(drop=True, inplace=True)\n",
    "    result = result.sort_values('joining_date').reset_index(drop=True)\n",
    "    result = result[result[\"gender\"]!= \"tong\"]\n",
    "    return result.to_json(orient=\"records\")"
   ]
  },
  {
   "cell_type": "code",
   "execution_count": null,
   "metadata": {},
   "outputs": [],
   "source": [
    "x = joining_date_by_gender(-1, main_data, mapping_cols_swap)\n",
    "x"
   ]
  },
  {
   "cell_type": "code",
   "execution_count": 142,
   "metadata": {},
   "outputs": [],
   "source": [
    "import datetime\n",
    "def cal_age(length, main_data, mapping_cols_swap):\n",
    "    length = -1\n",
    "    result =  main_data.iloc[:int(length)]\n",
    "    new_result = result.rename(columns=mapping_cols_swap)\n",
    "    new_result = new_result.reset_index(drop=True)\n",
    "    date_gender_df = new_result[[\"ngaysinh_nu\", \"ngaysinh_nam\"]]\n",
    "    gender = []\n",
    "    born = []\n",
    "    age = []\n",
    "    date_gender_df = date_gender_df.fillna(\"\")\n",
    "    for irow in range(len(date_gender_df)):\n",
    "        row  = date_gender_df.iloc[irow]\n",
    "        byear = ''\n",
    "        if row[\"ngaysinh_nam\"] != \"\":\n",
    "            gender.append(\"nam\")\n",
    "            byear = int(row[\"ngaysinh_nam\"].split(\"/\")[-1])\n",
    "            born.append(byear)\n",
    "        if row[\"ngaysinh_nu\"] != \"\":\n",
    "            gender.append(\"nu\")\n",
    "            byear = int(row[\"ngaysinh_nu\"].split(\"/\")[-1])\n",
    "            born.append(byear)\n",
    "        age.append(str(int(datetime.datetime.now().year) - byear))\n",
    "    date_gender_df[\"gender\"] = gender\n",
    "    date_gender_df[\"born\"] = born\n",
    "    date_gender_df[\"age\"] = age\n",
    "    date_gender_df = date_gender_df.drop(columns=[\"ngaysinh_nam\", \"ngaysinh_nu\", \"gender\"])\n",
    "    result_df = date_gender_df.drop(columns=[\"born\"])\n",
    "    result_df = result_df.value_counts(\"age\").reset_index()\n",
    "    result_df.columns = ['age', 'value']\n",
    "    result_df = result_df.sort_values(\"age\")\n",
    "    return result_df.to_json(orient=\"records\")\n",
    "\n"
   ]
  },
  {
   "cell_type": "code",
   "execution_count": 156,
   "metadata": {},
   "outputs": [],
   "source": [
    "def province_distribution(length, main_data, mapping_cols_swap, top = -1):\n",
    "    result =  main_data.iloc[:int(length)]\n",
    "    new_result = result.rename(columns=mapping_cols_swap)\n",
    "    new_result = new_result.reset_index(drop=True)\n",
    "    result_df = new_result.value_counts(\"tinh\").reset_index()\n",
    "    result_df.columns = ['province', 'value']\n",
    "    result_df = result_df.sort_values(\"value\", ascending = False)\n",
    "    if top != -1:\n",
    "        result_df = result_df[:top]\n",
    "    return result_df.to_json(orient=\"records\")\n"
   ]
  },
  {
   "cell_type": "code",
   "execution_count": null,
   "metadata": {},
   "outputs": [],
   "source": [
    "result =  main_data.iloc[:int(length)]\n",
    "new_result = result.rename(columns=mapping_cols_swap)\n",
    "new_result = new_result.reset_index(drop=True)\n",
    "result_df = new_result.value_counts(\"tinh\").reset_index()\n",
    "result_df.columns = ['province', 'value']\n",
    "result_df = result_df.sort_values(\"value\", ascending = False)\n",
    "result_df[:10]\n",
    "# return result_df.to_json(orient=\"records\")"
   ]
  },
  {
   "cell_type": "code",
   "execution_count": 167,
   "metadata": {},
   "outputs": [],
   "source": [
    "length = -1\n",
    "result =  main_data.iloc[:int(length)]\n",
    "new_result = result.rename(columns=mapping_cols_swap)\n",
    "new_result = new_result.reset_index(drop=True)\n",
    "\n",
    "\n",
    "gender = []\n",
    "born = []\n",
    "age = []\n",
    "date_gender_df = new_result.fillna(\"\")\n",
    "for irow in range(len(date_gender_df)):\n",
    "    row  = date_gender_df.iloc[irow]\n",
    "    byear = ''\n",
    "    if row[\"ngaysinh_nam\"] != \"\":\n",
    "        gender.append(\"nam\")\n",
    "        byear = row[\"ngaysinh_nam\"]\n",
    "        born.append(byear)\n",
    "    if row[\"ngaysinh_nu\"] != \"\":\n",
    "        gender.append(\"nu\")\n",
    "        byear = row[\"ngaysinh_nu\"]\n",
    "        born.append(byear)\n",
    "\n",
    "date_gender_df[\"gioitinh\"] = gender\n",
    "date_gender_df[\"ngaysinh\"] = born\n",
    "\n",
    "date_gender_df = date_gender_df.drop(columns=[\"ngaysinh_nam\", \"ngaysinh_nu\"])"
   ]
  },
  {
   "cell_type": "code",
   "execution_count": 169,
   "metadata": {},
   "outputs": [],
   "source": [
    "date_gender_df.to_excel(\"clean_DanhSachThongTinDoanVien.xlsx\")"
   ]
  },
  {
   "attachments": {},
   "cell_type": "markdown",
   "metadata": {},
   "source": [
    "# Event"
   ]
  },
  {
   "cell_type": "code",
   "execution_count": 1,
   "metadata": {},
   "outputs": [],
   "source": [
    "import pandas as pd"
   ]
  },
  {
   "cell_type": "code",
   "execution_count": 74,
   "metadata": {},
   "outputs": [],
   "source": [
    "event_data = pd.read_excel(\"database/event_db.xlsx\", dtype=str)"
   ]
  },
  {
   "cell_type": "code",
   "execution_count": 75,
   "metadata": {},
   "outputs": [],
   "source": [
    "event_data = event_data.fillna(\"\")"
   ]
  },
  {
   "cell_type": "code",
   "execution_count": 76,
   "metadata": {},
   "outputs": [
    {
     "data": {
      "text/html": [
       "<div>\n",
       "<style scoped>\n",
       "    .dataframe tbody tr th:only-of-type {\n",
       "        vertical-align: middle;\n",
       "    }\n",
       "\n",
       "    .dataframe tbody tr th {\n",
       "        vertical-align: top;\n",
       "    }\n",
       "\n",
       "    .dataframe thead th {\n",
       "        text-align: right;\n",
       "    }\n",
       "</style>\n",
       "<table border=\"1\" class=\"dataframe\">\n",
       "  <thead>\n",
       "    <tr style=\"text-align: right;\">\n",
       "      <th></th>\n",
       "      <th>event_id</th>\n",
       "      <th>event_name</th>\n",
       "      <th>event_description</th>\n",
       "      <th>event_start_date</th>\n",
       "      <th>event_end_date</th>\n",
       "      <th>requesting_member_id</th>\n",
       "      <th>accepted_member_id</th>\n",
       "      <th>rejected_member_id</th>\n",
       "    </tr>\n",
       "  </thead>\n",
       "  <tbody>\n",
       "    <tr>\n",
       "      <th>0</th>\n",
       "      <td>0001</td>\n",
       "      <td>Hội thao 2023</td>\n",
       "      <td>Đây là mô tả của sự kiện hội thao năm 2023</td>\n",
       "      <td>05/04/2023</td>\n",
       "      <td>15/04/2023</td>\n",
       "      <td>079091006696, 072068001015, 19031998</td>\n",
       "      <td>079091006696, 072068001015, 19031998</td>\n",
       "      <td></td>\n",
       "    </tr>\n",
       "    <tr>\n",
       "      <th>1</th>\n",
       "      <td>0002</td>\n",
       "      <td>Văn nghệ 2023</td>\n",
       "      <td>Cuộc thi văn nghệ tổ chức vào dịp 30/4 - 1/5 2023</td>\n",
       "      <td>20/04/2023</td>\n",
       "      <td>25/04/2023</td>\n",
       "      <td>079091006696, 072068001015, 19031998</td>\n",
       "      <td>079091006696, 072068001015</td>\n",
       "      <td></td>\n",
       "    </tr>\n",
       "    <tr>\n",
       "      <th>2</th>\n",
       "      <td>0003</td>\n",
       "      <td>Sự kiện 2024</td>\n",
       "      <td>Đây là mô tả của sự kiện 2024</td>\n",
       "      <td>20/12/2023</td>\n",
       "      <td>05/01/2024</td>\n",
       "      <td>072068001015, 19031998</td>\n",
       "      <td></td>\n",
       "      <td>19031998</td>\n",
       "    </tr>\n",
       "    <tr>\n",
       "      <th>3</th>\n",
       "      <td>0004</td>\n",
       "      <td>Demoday</td>\n",
       "      <td>Demo dự án, cập nhật tiến độ</td>\n",
       "      <td>20/03/2023</td>\n",
       "      <td>20/03/2023</td>\n",
       "      <td>19031998</td>\n",
       "      <td>19031998</td>\n",
       "      <td></td>\n",
       "    </tr>\n",
       "  </tbody>\n",
       "</table>\n",
       "</div>"
      ],
      "text/plain": [
       "  event_id     event_name                                  event_description  \\\n",
       "0     0001  Hội thao 2023         Đây là mô tả của sự kiện hội thao năm 2023   \n",
       "1     0002  Văn nghệ 2023  Cuộc thi văn nghệ tổ chức vào dịp 30/4 - 1/5 2023   \n",
       "2     0003   Sự kiện 2024                      Đây là mô tả của sự kiện 2024   \n",
       "3     0004        Demoday                       Demo dự án, cập nhật tiến độ   \n",
       "\n",
       "  event_start_date event_end_date                  requesting_member_id  \\\n",
       "0       05/04/2023     15/04/2023  079091006696, 072068001015, 19031998   \n",
       "1       20/04/2023     25/04/2023  079091006696, 072068001015, 19031998   \n",
       "2       20/12/2023     05/01/2024                072068001015, 19031998   \n",
       "3       20/03/2023     20/03/2023                              19031998   \n",
       "\n",
       "                     accepted_member_id rejected_member_id  \n",
       "0  079091006696, 072068001015, 19031998                     \n",
       "1            079091006696, 072068001015                     \n",
       "2                                                 19031998  \n",
       "3                              19031998                     "
      ]
     },
     "execution_count": 76,
     "metadata": {},
     "output_type": "execute_result"
    }
   ],
   "source": [
    "requested_event = event_data[event_data[\"requesting_member_id\"].str.contains(\"19031998\", na=False)]\n",
    "requested_event"
   ]
  },
  {
   "cell_type": "code",
   "execution_count": 77,
   "metadata": {},
   "outputs": [
    {
     "data": {
      "text/html": [
       "<div>\n",
       "<style scoped>\n",
       "    .dataframe tbody tr th:only-of-type {\n",
       "        vertical-align: middle;\n",
       "    }\n",
       "\n",
       "    .dataframe tbody tr th {\n",
       "        vertical-align: top;\n",
       "    }\n",
       "\n",
       "    .dataframe thead th {\n",
       "        text-align: right;\n",
       "    }\n",
       "</style>\n",
       "<table border=\"1\" class=\"dataframe\">\n",
       "  <thead>\n",
       "    <tr style=\"text-align: right;\">\n",
       "      <th></th>\n",
       "      <th>event_id</th>\n",
       "      <th>event_name</th>\n",
       "      <th>event_description</th>\n",
       "      <th>event_start_date</th>\n",
       "      <th>event_end_date</th>\n",
       "      <th>requesting_member_id</th>\n",
       "      <th>accepted_member_id</th>\n",
       "      <th>rejected_member_id</th>\n",
       "    </tr>\n",
       "  </thead>\n",
       "  <tbody>\n",
       "    <tr>\n",
       "      <th>0</th>\n",
       "      <td>0001</td>\n",
       "      <td>Hội thao 2023</td>\n",
       "      <td>Đây là mô tả của sự kiện hội thao năm 2023</td>\n",
       "      <td>05/04/2023</td>\n",
       "      <td>15/04/2023</td>\n",
       "      <td>079091006696, 072068001015, 19031998</td>\n",
       "      <td>079091006696, 072068001015, 19031998</td>\n",
       "      <td></td>\n",
       "    </tr>\n",
       "    <tr>\n",
       "      <th>3</th>\n",
       "      <td>0004</td>\n",
       "      <td>Demoday</td>\n",
       "      <td>Demo dự án, cập nhật tiến độ</td>\n",
       "      <td>20/03/2023</td>\n",
       "      <td>20/03/2023</td>\n",
       "      <td>19031998</td>\n",
       "      <td>19031998</td>\n",
       "      <td></td>\n",
       "    </tr>\n",
       "  </tbody>\n",
       "</table>\n",
       "</div>"
      ],
      "text/plain": [
       "  event_id     event_name                           event_description  \\\n",
       "0     0001  Hội thao 2023  Đây là mô tả của sự kiện hội thao năm 2023   \n",
       "3     0004        Demoday                Demo dự án, cập nhật tiến độ   \n",
       "\n",
       "  event_start_date event_end_date                  requesting_member_id  \\\n",
       "0       05/04/2023     15/04/2023  079091006696, 072068001015, 19031998   \n",
       "3       20/03/2023     20/03/2023                              19031998   \n",
       "\n",
       "                     accepted_member_id rejected_member_id  \n",
       "0  079091006696, 072068001015, 19031998                     \n",
       "3                              19031998                     "
      ]
     },
     "execution_count": 77,
     "metadata": {},
     "output_type": "execute_result"
    }
   ],
   "source": [
    "accepted_event = requested_event[requested_event[\"accepted_member_id\"].str.contains(\"19031998\", na=False)]\n",
    "accepted_event"
   ]
  },
  {
   "cell_type": "code",
   "execution_count": 78,
   "metadata": {},
   "outputs": [
    {
     "data": {
      "text/html": [
       "<div>\n",
       "<style scoped>\n",
       "    .dataframe tbody tr th:only-of-type {\n",
       "        vertical-align: middle;\n",
       "    }\n",
       "\n",
       "    .dataframe tbody tr th {\n",
       "        vertical-align: top;\n",
       "    }\n",
       "\n",
       "    .dataframe thead th {\n",
       "        text-align: right;\n",
       "    }\n",
       "</style>\n",
       "<table border=\"1\" class=\"dataframe\">\n",
       "  <thead>\n",
       "    <tr style=\"text-align: right;\">\n",
       "      <th></th>\n",
       "      <th>event_id</th>\n",
       "      <th>event_name</th>\n",
       "      <th>event_description</th>\n",
       "      <th>event_start_date</th>\n",
       "      <th>event_end_date</th>\n",
       "      <th>requesting_member_id</th>\n",
       "      <th>accepted_member_id</th>\n",
       "      <th>rejected_member_id</th>\n",
       "    </tr>\n",
       "  </thead>\n",
       "  <tbody>\n",
       "    <tr>\n",
       "      <th>2</th>\n",
       "      <td>0003</td>\n",
       "      <td>Sự kiện 2024</td>\n",
       "      <td>Đây là mô tả của sự kiện 2024</td>\n",
       "      <td>20/12/2023</td>\n",
       "      <td>05/01/2024</td>\n",
       "      <td>072068001015, 19031998</td>\n",
       "      <td></td>\n",
       "      <td>19031998</td>\n",
       "    </tr>\n",
       "  </tbody>\n",
       "</table>\n",
       "</div>"
      ],
      "text/plain": [
       "  event_id    event_name              event_description event_start_date  \\\n",
       "2     0003  Sự kiện 2024  Đây là mô tả của sự kiện 2024       20/12/2023   \n",
       "\n",
       "  event_end_date    requesting_member_id accepted_member_id rejected_member_id  \n",
       "2     05/01/2024  072068001015, 19031998                              19031998  "
      ]
     },
     "execution_count": 78,
     "metadata": {},
     "output_type": "execute_result"
    }
   ],
   "source": [
    "rejected_event = requested_event[requested_event[\"rejected_member_id\"].str.contains(\"19031998\", na=False)]\n",
    "rejected_event"
   ]
  },
  {
   "cell_type": "code",
   "execution_count": 79,
   "metadata": {},
   "outputs": [
    {
     "data": {
      "text/plain": [
       "Int64Index([0, 1, 2, 3], dtype='int64')"
      ]
     },
     "execution_count": 79,
     "metadata": {},
     "output_type": "execute_result"
    }
   ],
   "source": [
    "requested_event.index"
   ]
  },
  {
   "cell_type": "code",
   "execution_count": 81,
   "metadata": {},
   "outputs": [],
   "source": [
    "pendding_indexes = [each for each in list(requested_event.index) if each not in (list(accepted_event.index) + list(rejected_event.index))]"
   ]
  },
  {
   "cell_type": "code",
   "execution_count": 82,
   "metadata": {},
   "outputs": [
    {
     "data": {
      "text/plain": [
       "[0, 3]"
      ]
     },
     "execution_count": 82,
     "metadata": {},
     "output_type": "execute_result"
    }
   ],
   "source": [
    "list(accepted_event.index)"
   ]
  },
  {
   "cell_type": "code",
   "execution_count": 83,
   "metadata": {},
   "outputs": [
    {
     "data": {
      "text/plain": [
       "[2]"
      ]
     },
     "execution_count": 83,
     "metadata": {},
     "output_type": "execute_result"
    }
   ],
   "source": [
    "list(rejected_event.index)"
   ]
  },
  {
   "cell_type": "code",
   "execution_count": 84,
   "metadata": {},
   "outputs": [
    {
     "data": {
      "text/html": [
       "<div>\n",
       "<style scoped>\n",
       "    .dataframe tbody tr th:only-of-type {\n",
       "        vertical-align: middle;\n",
       "    }\n",
       "\n",
       "    .dataframe tbody tr th {\n",
       "        vertical-align: top;\n",
       "    }\n",
       "\n",
       "    .dataframe thead th {\n",
       "        text-align: right;\n",
       "    }\n",
       "</style>\n",
       "<table border=\"1\" class=\"dataframe\">\n",
       "  <thead>\n",
       "    <tr style=\"text-align: right;\">\n",
       "      <th></th>\n",
       "      <th>event_id</th>\n",
       "      <th>event_name</th>\n",
       "      <th>event_description</th>\n",
       "      <th>event_start_date</th>\n",
       "      <th>event_end_date</th>\n",
       "      <th>requesting_member_id</th>\n",
       "      <th>accepted_member_id</th>\n",
       "      <th>rejected_member_id</th>\n",
       "    </tr>\n",
       "  </thead>\n",
       "  <tbody>\n",
       "    <tr>\n",
       "      <th>1</th>\n",
       "      <td>0002</td>\n",
       "      <td>Văn nghệ 2023</td>\n",
       "      <td>Cuộc thi văn nghệ tổ chức vào dịp 30/4 - 1/5 2023</td>\n",
       "      <td>20/04/2023</td>\n",
       "      <td>25/04/2023</td>\n",
       "      <td>079091006696, 072068001015, 19031998</td>\n",
       "      <td>079091006696, 072068001015</td>\n",
       "      <td></td>\n",
       "    </tr>\n",
       "  </tbody>\n",
       "</table>\n",
       "</div>"
      ],
      "text/plain": [
       "  event_id     event_name                                  event_description  \\\n",
       "1     0002  Văn nghệ 2023  Cuộc thi văn nghệ tổ chức vào dịp 30/4 - 1/5 2023   \n",
       "\n",
       "  event_start_date event_end_date                  requesting_member_id  \\\n",
       "1       20/04/2023     25/04/2023  079091006696, 072068001015, 19031998   \n",
       "\n",
       "           accepted_member_id rejected_member_id  \n",
       "1  079091006696, 072068001015                     "
      ]
     },
     "execution_count": 84,
     "metadata": {},
     "output_type": "execute_result"
    }
   ],
   "source": [
    "pendding_event = requested_event.loc[pendding_indexes]\n",
    "pendding_event"
   ]
  },
  {
   "cell_type": "code",
   "execution_count": 40,
   "metadata": {},
   "outputs": [
    {
     "name": "stdout",
     "output_type": "stream",
     "text": [
      "{'requested_event_list': [1, 2, 3], 'accepted_event_list': [1], 'rejected_event_list': [3], 'short_event_data': {'event_name': {1: 'Hội thao 2023', 2: 'Văn nghệ 2023', 3: 'Sự kiện 2024'}, 'event_description': {1: 'Đây là mô tả của sự kiện hội thao năm 2023', 2: 'Cuộc thi văn nghệ tổ chức vào dịp 30/4 - 1/5 2023', 3: 'Đây là mô tả của sự kiện 2024'}, 'event_start_date': {1: '05/04/2023', 2: '20/04/2023', 3: '20/12/2023'}, 'event_end_date': {1: '15/04/2023', 2: '25/04/2023', 3: '05/01/2024'}, 'requesting_member_id': {1: '079091006696, 072068001015, 19031998', 2: '079091006696, 072068001015, 19031998', 3: '072068001015, 19031998'}, 'accepted_member_id': {1: '079091006696, 072068001015, 19031998', 2: '079091006696, 072068001015', 3: ''}, 'rejected_member_id': {1: '', 2: '', 3: \"'19031998\"}}}\n"
     ]
    }
   ],
   "source": [
    "temp_df = requested_event.copy()\n",
    "temp_df = temp_df.set_index(\"event_id\")\n",
    "short_event_data = temp_df.to_dict()\n",
    "requested_event_list = requested_event[\"event_id\"].to_list()\n",
    "accepted_event_list = accepted_event[\"event_id\"].to_list()\n",
    "rejected_event_list = rejected_event[\"event_id\"].to_list()\n",
    "\n",
    "result = {\n",
    "    # \"requested_event_list\": requested_event_list,\n",
    "    \"accepted_event_list\": accepted_event_list,\n",
    "    \"rejected_event_list\": rejected_event_list,\n",
    "    \"short_event_data\": short_event_data,\n",
    "}\n",
    "\n",
    "print(result)"
   ]
  },
  {
   "cell_type": "code",
   "execution_count": null,
   "metadata": {},
   "outputs": [
    {
     "data": {
      "text/html": [
       "<div>\n",
       "<style scoped>\n",
       "    .dataframe tbody tr th:only-of-type {\n",
       "        vertical-align: middle;\n",
       "    }\n",
       "\n",
       "    .dataframe tbody tr th {\n",
       "        vertical-align: top;\n",
       "    }\n",
       "\n",
       "    .dataframe thead th {\n",
       "        text-align: right;\n",
       "    }\n",
       "</style>\n",
       "<table border=\"1\" class=\"dataframe\">\n",
       "  <thead>\n",
       "    <tr style=\"text-align: right;\">\n",
       "      <th></th>\n",
       "      <th>event_id</th>\n",
       "      <th>event_name</th>\n",
       "      <th>event_description</th>\n",
       "      <th>event_start_date</th>\n",
       "      <th>event_end_date</th>\n",
       "      <th>requesting_member_id</th>\n",
       "      <th>accepted_member_id</th>\n",
       "      <th>rejected_member_id</th>\n",
       "    </tr>\n",
       "  </thead>\n",
       "  <tbody>\n",
       "    <tr>\n",
       "      <th>0</th>\n",
       "      <td>1</td>\n",
       "      <td>Hội thao 2023</td>\n",
       "      <td>Đây là mô tả của sự kiện hội thao năm 2023</td>\n",
       "      <td>05/04/2023</td>\n",
       "      <td>15/04/2023</td>\n",
       "      <td>079091006696, 072068001015, 19031998</td>\n",
       "      <td>079091006696, 072068001015, 19031998</td>\n",
       "      <td></td>\n",
       "    </tr>\n",
       "    <tr>\n",
       "      <th>1</th>\n",
       "      <td>2</td>\n",
       "      <td>Văn nghệ 2023</td>\n",
       "      <td>Cuộc thi văn nghệ tổ chức vào dịp 30/4 - 1/5 2023</td>\n",
       "      <td>20/04/2023</td>\n",
       "      <td>25/04/2023</td>\n",
       "      <td>079091006696, 072068001015, 19031998</td>\n",
       "      <td>079091006696, 072068001015</td>\n",
       "      <td></td>\n",
       "    </tr>\n",
       "  </tbody>\n",
       "</table>\n",
       "</div>"
      ],
      "text/plain": [
       "   event_id     event_name                                  event_description  \\\n",
       "0         1  Hội thao 2023         Đây là mô tả của sự kiện hội thao năm 2023   \n",
       "1         2  Văn nghệ 2023  Cuộc thi văn nghệ tổ chức vào dịp 30/4 - 1/5 2023   \n",
       "\n",
       "  event_start_date event_end_date                  requesting_member_id  \\\n",
       "0       05/04/2023     15/04/2023  079091006696, 072068001015, 19031998   \n",
       "1       20/04/2023     25/04/2023  079091006696, 072068001015, 19031998   \n",
       "\n",
       "                     accepted_member_id rejected_member_id  \n",
       "0  079091006696, 072068001015, 19031998                     \n",
       "1            079091006696, 072068001015                     "
      ]
     },
     "execution_count": 11,
     "metadata": {},
     "output_type": "execute_result"
    }
   ],
   "source": [
    "requested_event"
   ]
  },
  {
   "cell_type": "code",
   "execution_count": null,
   "metadata": {},
   "outputs": [],
   "source": []
  }
 ],
 "metadata": {
  "kernelspec": {
   "display_name": "base",
   "language": "python",
   "name": "python3"
  },
  "language_info": {
   "codemirror_mode": {
    "name": "ipython",
    "version": 3
   },
   "file_extension": ".py",
   "mimetype": "text/x-python",
   "name": "python",
   "nbconvert_exporter": "python",
   "pygments_lexer": "ipython3",
   "version": "3.9.12"
  },
  "orig_nbformat": 4,
  "vscode": {
   "interpreter": {
    "hash": "cc5644fd2b52d511b211cf140a1e1d228fa8006a12c8d99adabf32e3d6df441d"
   }
  }
 },
 "nbformat": 4,
 "nbformat_minor": 2
}
